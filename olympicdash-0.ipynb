{
 "cells": [
  {
   "cell_type": "raw",
   "id": "1e00c4da-1ec9-4402-a28b-6ad4b241b3a8",
   "metadata": {
    "vscode": {
     "languageId": "raw"
    }
   },
   "source": [
    "---\n",
    "title: \"Olympic Games\"\n",
    "format: html\n",
    "jupyter: python3\n",
    "---"
   ]
  },
  {
   "cell_type": "markdown",
   "id": "8776c2d1-722b-4e14-8b78-4b3f50f45bd4",
   "metadata": {},
   "source": [
    "# Introduction\n",
    "\n",
    "Let's explore Olympics data!\n",
    "\n",
    "## Packages\n",
    "\n",
    "For this analysis we'll use a few packages for visualization and data display."
   ]
  },
  {
   "cell_type": "code",
   "execution_count": 10,
   "id": "f23340e8",
   "metadata": {},
   "outputs": [],
   "source": [
    "#| label: load-packages\n",
    "from plotnine import *\n",
    "import great_tables as gt\n",
    "import pandas as pd"
   ]
  },
  {
   "cell_type": "markdown",
   "id": "50525d7d",
   "metadata": {},
   "source": [
    "## Data\n",
    "\n",
    "The dataset we'll use comes from a CSV file."
   ]
  },
  {
   "cell_type": "code",
   "execution_count": 11,
   "id": "60ed5e11",
   "metadata": {},
   "outputs": [],
   "source": [
    "#| label: load-data\n",
    "\n",
    "olympics_full = pd.read_csv(\"data/olympics.csv\", low_memory=False)"
   ]
  },
  {
   "cell_type": "markdown",
   "id": "819b632b",
   "metadata": {},
   "source": [
    "The dataset records Olympic athlete details, including personal information (id, name, sex, age), physical attributes (height, weight), team and nationality (team, noc), and their participation in specific games (year, season, city, sport, event) along with any medals won."
   ]
  },
  {
   "cell_type": "markdown",
   "id": "acb37fe3",
   "metadata": {},
   "source": [
    "Let's take a peek at the data. The table below shows the first five rows of the `olympics_full` data frame."
   ]
  },
  {
   "cell_type": "code",
   "execution_count": null,
   "id": "85139b69",
   "metadata": {},
   "outputs": [],
   "source": [
    "#| label: tbl-olympics-head\n",
    "#| tbl-cap: First five rows of the Olympics data frame.\n",
    "\n",
    "olympics_full.head()"
   ]
  },
  {
   "cell_type": "markdown",
   "id": "7b60e247",
   "metadata": {},
   "source": [
    "We can prepare the data for analysis."
   ]
  },
  {
   "cell_type": "code",
   "execution_count": 13,
   "id": "dc778ff8",
   "metadata": {},
   "outputs": [],
   "source": [
    "#| label: prep-data\n",
    "# Filter for non-NA medals\n",
    "olympics = olympics_full.loc[olympics_full[\"medal\"].notna()]\n",
    "\n",
    "# Split the team column at \"-\" into two columns\n",
    "split_data = olympics[\"team\"].str.split(\"-\", n=1, expand=True)\n",
    "olympics.loc[:, \"team\"] = split_data[0]\n",
    "\n",
    "# Reorder the medal column categories\n",
    "olympics.loc[:, \"medal\"] = pd.Categorical(\n",
    "    olympics[\"medal\"], categories=[\"Bronze\", \"Silver\", \"Gold\"]\n",
    ")"
   ]
  },
  {
   "cell_type": "markdown",
   "id": "378d650a",
   "metadata": {},
   "source": [
    "Let's view just the Summer data."
   ]
  },
  {
   "cell_type": "code",
   "execution_count": null,
   "id": "7a12b69b",
   "metadata": {},
   "outputs": [],
   "source": [
    "#| label: summmer-prep-data\n",
    "olympics = olympics[(olympics[\"season\"] == \"Summer\")]\n",
    "olympics.reset_index(drop=True, inplace=True)\n",
    "olympics.head()"
   ]
  },
  {
   "cell_type": "markdown",
   "id": "c5a14f7c",
   "metadata": {},
   "source": [
    "# Visualizations\n",
    "\n",
    "## Medals by sport\n",
    "\n",
    "The figure below shows medals by sport."
   ]
  },
  {
   "cell_type": "code",
   "execution_count": null,
   "id": "2d680db0-67dd-43b9-b1c1-6e9df46f342e",
   "metadata": {},
   "outputs": [],
   "source": [
    "#| warning: false\n",
    "# Lump the sport column to top 15 categories, grouping others as Other\n",
    "top_15_sports = olympics[\"sport\"].value_counts().nlargest(15).index\n",
    "olympics[\"sport\"] = olympics[\"sport\"].apply(\n",
    "    lambda x: x if x in top_15_sports else \"Other\"\n",
    ")\n",
    "\n",
    "# Convert the sport column to a categorical type with order based on frequency, and reverse the order\n",
    "olympics[\"sport\"] = pd.Categorical(\n",
    "    olympics[\"sport\"], categories=olympics[\"sport\"].value_counts().index[::-1]\n",
    ")\n",
    "\n",
    "# Move the Other category of the sport column to the beginning\n",
    "new_order = [\"Other\"] + [\n",
    "    cat for cat in olympics[\"sport\"].cat.categories if cat != \"Other\"\n",
    "]\n",
    "olympics[\"sport\"] = olympics[\"sport\"].cat.reorder_categories(new_order)\n",
    "\n",
    "# Plot\n",
    "(\n",
    "    ggplot(olympics, aes(x=\"sport\", fill=\"medal\"))\n",
    "    + geom_bar()\n",
    "    + coord_flip()\n",
    "    + guides(fill=guide_legend(reverse=True))\n",
    "    + scale_fill_manual(\n",
    "        values={\"Gold\": \"#d4af37\", \"Silver\": \"#c0c0c0\", \"Bronze\": \"#cd7f32\"}\n",
    "    )\n",
    "    + labs(x=\"\", y=\"\", fill=\"Medal\")\n",
    "    + theme_minimal()\n",
    "    + theme(\n",
    "        legend_position=\"inside\",\n",
    "        legend_position_inside=(0.9, 0.2),\n",
    "        legend_direction=\"horizontal\",\n",
    "        legend_background=element_rect(fill=\"white\", color=\"gray\"),\n",
    "        figure_size=(10, 5),\n",
    "    )\n",
    ")"
   ]
  }
 ],
 "metadata": {
  "kernelspec": {
   "display_name": "Python 3 (ipykernel)",
   "language": "python",
   "name": "python3"
  },
  "language_info": {
   "codemirror_mode": {
    "name": "ipython",
    "version": 3
   },
   "file_extension": ".py",
   "mimetype": "text/x-python",
   "name": "python",
   "nbconvert_exporter": "python",
   "pygments_lexer": "ipython3",
   "version": "3.12.0"
  }
 },
 "nbformat": 4,
 "nbformat_minor": 5
}
